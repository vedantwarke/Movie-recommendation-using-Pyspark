{
  "cells": [
    {
      "cell_type": "markdown",
      "metadata": {
        "id": "rZ-yQTOeTg1_"
      },
      "source": [
        "## Import modules and create Spark session"
      ]
    },
    {
      "cell_type": "code",
      "source": [
        "from google.colab import drive\n",
        "drive.mount('/content/drive')"
      ],
      "metadata": {
        "id": "tvv8VjeHVXqb",
        "colab": {
          "base_uri": "https://localhost:8080/"
        },
        "outputId": "441a38b3-0b14-49bd-f7e8-8ef2ccfa77fd"
      },
      "execution_count": 26,
      "outputs": [
        {
          "output_type": "stream",
          "name": "stdout",
          "text": [
            "Drive already mounted at /content/drive; to attempt to forcibly remount, call drive.mount(\"/content/drive\", force_remount=True).\n"
          ]
        }
      ]
    },
    {
      "cell_type": "code",
      "source": [
        "!pip install pyspark --quiet\n",
        "from pyspark.sql import SparkSession\n",
        "!pip install findspark --quiet\n",
        "import findspark\n",
        "findspark.init()"
      ],
      "metadata": {
        "id": "n5VGBJN8V37P"
      },
      "execution_count": 27,
      "outputs": []
    },
    {
      "cell_type": "code",
      "execution_count": 28,
      "metadata": {
        "id": "SdlUuOiETg2J"
      },
      "outputs": [],
      "source": [
        "#import module\n",
        "from pyspark.ml.recommendation import ALS\n",
        "\n",
        "#create session\n",
        "appName = \"Recommender system in Spark\"\n",
        "spark = SparkSession \\\n",
        "    .builder \\\n",
        "    .appName(appName) \\\n",
        "    .config(\"spark.some.config.option\", \"some-value\") \\\n",
        "    .getOrCreate()"
      ]
    },
    {
      "cell_type": "markdown",
      "metadata": {
        "id": "Rj-8yhrzTg2M"
      },
      "source": [
        "## Read file into dataFrame"
      ]
    },
    {
      "cell_type": "code",
      "execution_count": 29,
      "metadata": {
        "id": "mwTChRYVTg2N",
        "colab": {
          "base_uri": "https://localhost:8080/"
        },
        "outputId": "73d60144-b34a-4c11-e2a9-6776230c3678"
      },
      "outputs": [
        {
          "output_type": "stream",
          "name": "stdout",
          "text": [
            "+------+-------+------+----------+\n",
            "|userId|movieId|rating| timestamp|\n",
            "+------+-------+------+----------+\n",
            "|     1|     31|   2.5|1260759144|\n",
            "|     1|   1029|   3.0|1260759179|\n",
            "|     1|   1061|   3.0|1260759182|\n",
            "|     1|   1129|   2.0|1260759185|\n",
            "|     1|   1172|   4.0|1260759205|\n",
            "+------+-------+------+----------+\n",
            "only showing top 5 rows\n",
            "\n",
            "+-------+--------------------+--------------------+\n",
            "|movieId|               title|              genres|\n",
            "+-------+--------------------+--------------------+\n",
            "|      1|    Toy Story (1995)|Adventure|Animati...|\n",
            "|      2|      Jumanji (1995)|Adventure|Childre...|\n",
            "|      3|Grumpier Old Men ...|      Comedy|Romance|\n",
            "|      4|Waiting to Exhale...|Comedy|Drama|Romance|\n",
            "|      5|Father of the Bri...|              Comedy|\n",
            "+-------+--------------------+--------------------+\n",
            "only showing top 5 rows\n",
            "\n",
            "+-------+----------------+--------------------+------+------+----------+\n",
            "|movieId|           title|              genres|userId|rating| timestamp|\n",
            "+-------+----------------+--------------------+------+------+----------+\n",
            "|      1|Toy Story (1995)|Adventure|Animati...|     7|   3.0| 851866703|\n",
            "|      1|Toy Story (1995)|Adventure|Animati...|     9|   4.0| 938629179|\n",
            "|      1|Toy Story (1995)|Adventure|Animati...|    13|   5.0|1331380058|\n",
            "|      1|Toy Story (1995)|Adventure|Animati...|    15|   2.0| 997938310|\n",
            "|      1|Toy Story (1995)|Adventure|Animati...|    19|   3.0| 855190091|\n",
            "+-------+----------------+--------------------+------+------+----------+\n",
            "only showing top 5 rows\n",
            "\n"
          ]
        }
      ],
      "source": [
        "ratings = spark.read.csv('/content/drive/MyDrive/movies.csv', inferSchema=True, header=True)\n",
        "movies = spark.read.csv('/content/drive/MyDrive/ratings.csv', inferSchema=True, header=True)\n",
        "movies.show(5)\n",
        "ratings.show(5)\n",
        "# joined_df = ratings.join(movies, ratings.movieId == movies.movieId, \"outer\")\n",
        "joined_df = ratings.join(movies, on=\"movieId\", how=\"outer\")\n",
        "joined_df.show(5)"
      ]
    },
    {
      "cell_type": "code",
      "source": [
        "import pandas as pd\n",
        "import numpy as np\n",
        "from sklearn.feature_extraction.text import CountVectorizer\n",
        "from sklearn.metrics.pairwise import cosine_similarity\n",
        "df = pd.read_csv(\"/content/drive/MyDrive/movie_dataset.csv\")\n",
        "df.head()"
      ],
      "metadata": {
        "colab": {
          "base_uri": "https://localhost:8080/",
          "height": 727
        },
        "id": "AiLc-XTNOMBW",
        "outputId": "78ce88c1-d712-4605-df38-290067060fb6"
      },
      "execution_count": 30,
      "outputs": [
        {
          "output_type": "execute_result",
          "data": {
            "text/plain": [
              "   index     budget                                    genres  \\\n",
              "0      0  237000000  Action Adventure Fantasy Science Fiction   \n",
              "1      1  300000000                  Adventure Fantasy Action   \n",
              "2      2  245000000                    Action Adventure Crime   \n",
              "3      3  250000000               Action Crime Drama Thriller   \n",
              "4      4  260000000          Action Adventure Science Fiction   \n",
              "\n",
              "                                       homepage      id  \\\n",
              "0                   http://www.avatarmovie.com/   19995   \n",
              "1  http://disney.go.com/disneypictures/pirates/     285   \n",
              "2   http://www.sonypictures.com/movies/spectre/  206647   \n",
              "3            http://www.thedarkknightrises.com/   49026   \n",
              "4          http://movies.disney.com/john-carter   49529   \n",
              "\n",
              "                                            keywords original_language  \\\n",
              "0  culture clash future space war space colony so...                en   \n",
              "1  ocean drug abuse exotic island east india trad...                en   \n",
              "2         spy based on novel secret agent sequel mi6                en   \n",
              "3  dc comics crime fighter terrorist secret ident...                en   \n",
              "4  based on novel mars medallion space travel pri...                en   \n",
              "\n",
              "                             original_title  \\\n",
              "0                                    Avatar   \n",
              "1  Pirates of the Caribbean: At World's End   \n",
              "2                                   Spectre   \n",
              "3                     The Dark Knight Rises   \n",
              "4                               John Carter   \n",
              "\n",
              "                                            overview  popularity  ... runtime  \\\n",
              "0  In the 22nd century, a paraplegic Marine is di...  150.437577  ...   162.0   \n",
              "1  Captain Barbossa, long believed to be dead, ha...  139.082615  ...   169.0   \n",
              "2  A cryptic message from Bond’s past sends him o...  107.376788  ...   148.0   \n",
              "3  Following the death of District Attorney Harve...  112.312950  ...   165.0   \n",
              "4  John Carter is a war-weary, former military ca...   43.926995  ...   132.0   \n",
              "\n",
              "                                    spoken_languages    status  \\\n",
              "0  [{\"iso_639_1\": \"en\", \"name\": \"English\"}, {\"iso...  Released   \n",
              "1           [{\"iso_639_1\": \"en\", \"name\": \"English\"}]  Released   \n",
              "2  [{\"iso_639_1\": \"fr\", \"name\": \"Fran\\u00e7ais\"},...  Released   \n",
              "3           [{\"iso_639_1\": \"en\", \"name\": \"English\"}]  Released   \n",
              "4           [{\"iso_639_1\": \"en\", \"name\": \"English\"}]  Released   \n",
              "\n",
              "                                          tagline  \\\n",
              "0                     Enter the World of Pandora.   \n",
              "1  At the end of the world, the adventure begins.   \n",
              "2                           A Plan No One Escapes   \n",
              "3                                 The Legend Ends   \n",
              "4            Lost in our world, found in another.   \n",
              "\n",
              "                                      title vote_average vote_count  \\\n",
              "0                                    Avatar          7.2      11800   \n",
              "1  Pirates of the Caribbean: At World's End          6.9       4500   \n",
              "2                                   Spectre          6.3       4466   \n",
              "3                     The Dark Knight Rises          7.6       9106   \n",
              "4                               John Carter          6.1       2124   \n",
              "\n",
              "                                                cast  \\\n",
              "0  Sam Worthington Zoe Saldana Sigourney Weaver S...   \n",
              "1  Johnny Depp Orlando Bloom Keira Knightley Stel...   \n",
              "2  Daniel Craig Christoph Waltz L\\u00e9a Seydoux ...   \n",
              "3  Christian Bale Michael Caine Gary Oldman Anne ...   \n",
              "4  Taylor Kitsch Lynn Collins Samantha Morton Wil...   \n",
              "\n",
              "                                                crew           director  \n",
              "0  [{'name': 'Stephen E. Rivkin', 'gender': 0, 'd...      James Cameron  \n",
              "1  [{'name': 'Dariusz Wolski', 'gender': 2, 'depa...     Gore Verbinski  \n",
              "2  [{'name': 'Thomas Newman', 'gender': 2, 'depar...         Sam Mendes  \n",
              "3  [{'name': 'Hans Zimmer', 'gender': 2, 'departm...  Christopher Nolan  \n",
              "4  [{'name': 'Andrew Stanton', 'gender': 2, 'depa...     Andrew Stanton  \n",
              "\n",
              "[5 rows x 24 columns]"
            ],
            "text/html": [
              "\n",
              "  <div id=\"df-c6818524-5cea-4c87-b384-f12af55eef17\" class=\"colab-df-container\">\n",
              "    <div>\n",
              "<style scoped>\n",
              "    .dataframe tbody tr th:only-of-type {\n",
              "        vertical-align: middle;\n",
              "    }\n",
              "\n",
              "    .dataframe tbody tr th {\n",
              "        vertical-align: top;\n",
              "    }\n",
              "\n",
              "    .dataframe thead th {\n",
              "        text-align: right;\n",
              "    }\n",
              "</style>\n",
              "<table border=\"1\" class=\"dataframe\">\n",
              "  <thead>\n",
              "    <tr style=\"text-align: right;\">\n",
              "      <th></th>\n",
              "      <th>index</th>\n",
              "      <th>budget</th>\n",
              "      <th>genres</th>\n",
              "      <th>homepage</th>\n",
              "      <th>id</th>\n",
              "      <th>keywords</th>\n",
              "      <th>original_language</th>\n",
              "      <th>original_title</th>\n",
              "      <th>overview</th>\n",
              "      <th>popularity</th>\n",
              "      <th>...</th>\n",
              "      <th>runtime</th>\n",
              "      <th>spoken_languages</th>\n",
              "      <th>status</th>\n",
              "      <th>tagline</th>\n",
              "      <th>title</th>\n",
              "      <th>vote_average</th>\n",
              "      <th>vote_count</th>\n",
              "      <th>cast</th>\n",
              "      <th>crew</th>\n",
              "      <th>director</th>\n",
              "    </tr>\n",
              "  </thead>\n",
              "  <tbody>\n",
              "    <tr>\n",
              "      <th>0</th>\n",
              "      <td>0</td>\n",
              "      <td>237000000</td>\n",
              "      <td>Action Adventure Fantasy Science Fiction</td>\n",
              "      <td>http://www.avatarmovie.com/</td>\n",
              "      <td>19995</td>\n",
              "      <td>culture clash future space war space colony so...</td>\n",
              "      <td>en</td>\n",
              "      <td>Avatar</td>\n",
              "      <td>In the 22nd century, a paraplegic Marine is di...</td>\n",
              "      <td>150.437577</td>\n",
              "      <td>...</td>\n",
              "      <td>162.0</td>\n",
              "      <td>[{\"iso_639_1\": \"en\", \"name\": \"English\"}, {\"iso...</td>\n",
              "      <td>Released</td>\n",
              "      <td>Enter the World of Pandora.</td>\n",
              "      <td>Avatar</td>\n",
              "      <td>7.2</td>\n",
              "      <td>11800</td>\n",
              "      <td>Sam Worthington Zoe Saldana Sigourney Weaver S...</td>\n",
              "      <td>[{'name': 'Stephen E. Rivkin', 'gender': 0, 'd...</td>\n",
              "      <td>James Cameron</td>\n",
              "    </tr>\n",
              "    <tr>\n",
              "      <th>1</th>\n",
              "      <td>1</td>\n",
              "      <td>300000000</td>\n",
              "      <td>Adventure Fantasy Action</td>\n",
              "      <td>http://disney.go.com/disneypictures/pirates/</td>\n",
              "      <td>285</td>\n",
              "      <td>ocean drug abuse exotic island east india trad...</td>\n",
              "      <td>en</td>\n",
              "      <td>Pirates of the Caribbean: At World's End</td>\n",
              "      <td>Captain Barbossa, long believed to be dead, ha...</td>\n",
              "      <td>139.082615</td>\n",
              "      <td>...</td>\n",
              "      <td>169.0</td>\n",
              "      <td>[{\"iso_639_1\": \"en\", \"name\": \"English\"}]</td>\n",
              "      <td>Released</td>\n",
              "      <td>At the end of the world, the adventure begins.</td>\n",
              "      <td>Pirates of the Caribbean: At World's End</td>\n",
              "      <td>6.9</td>\n",
              "      <td>4500</td>\n",
              "      <td>Johnny Depp Orlando Bloom Keira Knightley Stel...</td>\n",
              "      <td>[{'name': 'Dariusz Wolski', 'gender': 2, 'depa...</td>\n",
              "      <td>Gore Verbinski</td>\n",
              "    </tr>\n",
              "    <tr>\n",
              "      <th>2</th>\n",
              "      <td>2</td>\n",
              "      <td>245000000</td>\n",
              "      <td>Action Adventure Crime</td>\n",
              "      <td>http://www.sonypictures.com/movies/spectre/</td>\n",
              "      <td>206647</td>\n",
              "      <td>spy based on novel secret agent sequel mi6</td>\n",
              "      <td>en</td>\n",
              "      <td>Spectre</td>\n",
              "      <td>A cryptic message from Bond’s past sends him o...</td>\n",
              "      <td>107.376788</td>\n",
              "      <td>...</td>\n",
              "      <td>148.0</td>\n",
              "      <td>[{\"iso_639_1\": \"fr\", \"name\": \"Fran\\u00e7ais\"},...</td>\n",
              "      <td>Released</td>\n",
              "      <td>A Plan No One Escapes</td>\n",
              "      <td>Spectre</td>\n",
              "      <td>6.3</td>\n",
              "      <td>4466</td>\n",
              "      <td>Daniel Craig Christoph Waltz L\\u00e9a Seydoux ...</td>\n",
              "      <td>[{'name': 'Thomas Newman', 'gender': 2, 'depar...</td>\n",
              "      <td>Sam Mendes</td>\n",
              "    </tr>\n",
              "    <tr>\n",
              "      <th>3</th>\n",
              "      <td>3</td>\n",
              "      <td>250000000</td>\n",
              "      <td>Action Crime Drama Thriller</td>\n",
              "      <td>http://www.thedarkknightrises.com/</td>\n",
              "      <td>49026</td>\n",
              "      <td>dc comics crime fighter terrorist secret ident...</td>\n",
              "      <td>en</td>\n",
              "      <td>The Dark Knight Rises</td>\n",
              "      <td>Following the death of District Attorney Harve...</td>\n",
              "      <td>112.312950</td>\n",
              "      <td>...</td>\n",
              "      <td>165.0</td>\n",
              "      <td>[{\"iso_639_1\": \"en\", \"name\": \"English\"}]</td>\n",
              "      <td>Released</td>\n",
              "      <td>The Legend Ends</td>\n",
              "      <td>The Dark Knight Rises</td>\n",
              "      <td>7.6</td>\n",
              "      <td>9106</td>\n",
              "      <td>Christian Bale Michael Caine Gary Oldman Anne ...</td>\n",
              "      <td>[{'name': 'Hans Zimmer', 'gender': 2, 'departm...</td>\n",
              "      <td>Christopher Nolan</td>\n",
              "    </tr>\n",
              "    <tr>\n",
              "      <th>4</th>\n",
              "      <td>4</td>\n",
              "      <td>260000000</td>\n",
              "      <td>Action Adventure Science Fiction</td>\n",
              "      <td>http://movies.disney.com/john-carter</td>\n",
              "      <td>49529</td>\n",
              "      <td>based on novel mars medallion space travel pri...</td>\n",
              "      <td>en</td>\n",
              "      <td>John Carter</td>\n",
              "      <td>John Carter is a war-weary, former military ca...</td>\n",
              "      <td>43.926995</td>\n",
              "      <td>...</td>\n",
              "      <td>132.0</td>\n",
              "      <td>[{\"iso_639_1\": \"en\", \"name\": \"English\"}]</td>\n",
              "      <td>Released</td>\n",
              "      <td>Lost in our world, found in another.</td>\n",
              "      <td>John Carter</td>\n",
              "      <td>6.1</td>\n",
              "      <td>2124</td>\n",
              "      <td>Taylor Kitsch Lynn Collins Samantha Morton Wil...</td>\n",
              "      <td>[{'name': 'Andrew Stanton', 'gender': 2, 'depa...</td>\n",
              "      <td>Andrew Stanton</td>\n",
              "    </tr>\n",
              "  </tbody>\n",
              "</table>\n",
              "<p>5 rows × 24 columns</p>\n",
              "</div>\n",
              "    <div class=\"colab-df-buttons\">\n",
              "\n",
              "  <div class=\"colab-df-container\">\n",
              "    <button class=\"colab-df-convert\" onclick=\"convertToInteractive('df-c6818524-5cea-4c87-b384-f12af55eef17')\"\n",
              "            title=\"Convert this dataframe to an interactive table.\"\n",
              "            style=\"display:none;\">\n",
              "\n",
              "  <svg xmlns=\"http://www.w3.org/2000/svg\" height=\"24px\" viewBox=\"0 -960 960 960\">\n",
              "    <path d=\"M120-120v-720h720v720H120Zm60-500h600v-160H180v160Zm220 220h160v-160H400v160Zm0 220h160v-160H400v160ZM180-400h160v-160H180v160Zm440 0h160v-160H620v160ZM180-180h160v-160H180v160Zm440 0h160v-160H620v160Z\"/>\n",
              "  </svg>\n",
              "    </button>\n",
              "\n",
              "  <style>\n",
              "    .colab-df-container {\n",
              "      display:flex;\n",
              "      gap: 12px;\n",
              "    }\n",
              "\n",
              "    .colab-df-convert {\n",
              "      background-color: #E8F0FE;\n",
              "      border: none;\n",
              "      border-radius: 50%;\n",
              "      cursor: pointer;\n",
              "      display: none;\n",
              "      fill: #1967D2;\n",
              "      height: 32px;\n",
              "      padding: 0 0 0 0;\n",
              "      width: 32px;\n",
              "    }\n",
              "\n",
              "    .colab-df-convert:hover {\n",
              "      background-color: #E2EBFA;\n",
              "      box-shadow: 0px 1px 2px rgba(60, 64, 67, 0.3), 0px 1px 3px 1px rgba(60, 64, 67, 0.15);\n",
              "      fill: #174EA6;\n",
              "    }\n",
              "\n",
              "    .colab-df-buttons div {\n",
              "      margin-bottom: 4px;\n",
              "    }\n",
              "\n",
              "    [theme=dark] .colab-df-convert {\n",
              "      background-color: #3B4455;\n",
              "      fill: #D2E3FC;\n",
              "    }\n",
              "\n",
              "    [theme=dark] .colab-df-convert:hover {\n",
              "      background-color: #434B5C;\n",
              "      box-shadow: 0px 1px 3px 1px rgba(0, 0, 0, 0.15);\n",
              "      filter: drop-shadow(0px 1px 2px rgba(0, 0, 0, 0.3));\n",
              "      fill: #FFFFFF;\n",
              "    }\n",
              "  </style>\n",
              "\n",
              "    <script>\n",
              "      const buttonEl =\n",
              "        document.querySelector('#df-c6818524-5cea-4c87-b384-f12af55eef17 button.colab-df-convert');\n",
              "      buttonEl.style.display =\n",
              "        google.colab.kernel.accessAllowed ? 'block' : 'none';\n",
              "\n",
              "      async function convertToInteractive(key) {\n",
              "        const element = document.querySelector('#df-c6818524-5cea-4c87-b384-f12af55eef17');\n",
              "        const dataTable =\n",
              "          await google.colab.kernel.invokeFunction('convertToInteractive',\n",
              "                                                    [key], {});\n",
              "        if (!dataTable) return;\n",
              "\n",
              "        const docLinkHtml = 'Like what you see? Visit the ' +\n",
              "          '<a target=\"_blank\" href=https://colab.research.google.com/notebooks/data_table.ipynb>data table notebook</a>'\n",
              "          + ' to learn more about interactive tables.';\n",
              "        element.innerHTML = '';\n",
              "        dataTable['output_type'] = 'display_data';\n",
              "        await google.colab.output.renderOutput(dataTable, element);\n",
              "        const docLink = document.createElement('div');\n",
              "        docLink.innerHTML = docLinkHtml;\n",
              "        element.appendChild(docLink);\n",
              "      }\n",
              "    </script>\n",
              "  </div>\n",
              "\n",
              "\n",
              "<div id=\"df-9658e8f1-26c7-4b07-9b0c-8722f3d6822e\">\n",
              "  <button class=\"colab-df-quickchart\" onclick=\"quickchart('df-9658e8f1-26c7-4b07-9b0c-8722f3d6822e')\"\n",
              "            title=\"Suggest charts.\"\n",
              "            style=\"display:none;\">\n",
              "\n",
              "<svg xmlns=\"http://www.w3.org/2000/svg\" height=\"24px\"viewBox=\"0 0 24 24\"\n",
              "     width=\"24px\">\n",
              "    <g>\n",
              "        <path d=\"M19 3H5c-1.1 0-2 .9-2 2v14c0 1.1.9 2 2 2h14c1.1 0 2-.9 2-2V5c0-1.1-.9-2-2-2zM9 17H7v-7h2v7zm4 0h-2V7h2v10zm4 0h-2v-4h2v4z\"/>\n",
              "    </g>\n",
              "</svg>\n",
              "  </button>\n",
              "\n",
              "<style>\n",
              "  .colab-df-quickchart {\n",
              "      --bg-color: #E8F0FE;\n",
              "      --fill-color: #1967D2;\n",
              "      --hover-bg-color: #E2EBFA;\n",
              "      --hover-fill-color: #174EA6;\n",
              "      --disabled-fill-color: #AAA;\n",
              "      --disabled-bg-color: #DDD;\n",
              "  }\n",
              "\n",
              "  [theme=dark] .colab-df-quickchart {\n",
              "      --bg-color: #3B4455;\n",
              "      --fill-color: #D2E3FC;\n",
              "      --hover-bg-color: #434B5C;\n",
              "      --hover-fill-color: #FFFFFF;\n",
              "      --disabled-bg-color: #3B4455;\n",
              "      --disabled-fill-color: #666;\n",
              "  }\n",
              "\n",
              "  .colab-df-quickchart {\n",
              "    background-color: var(--bg-color);\n",
              "    border: none;\n",
              "    border-radius: 50%;\n",
              "    cursor: pointer;\n",
              "    display: none;\n",
              "    fill: var(--fill-color);\n",
              "    height: 32px;\n",
              "    padding: 0;\n",
              "    width: 32px;\n",
              "  }\n",
              "\n",
              "  .colab-df-quickchart:hover {\n",
              "    background-color: var(--hover-bg-color);\n",
              "    box-shadow: 0 1px 2px rgba(60, 64, 67, 0.3), 0 1px 3px 1px rgba(60, 64, 67, 0.15);\n",
              "    fill: var(--button-hover-fill-color);\n",
              "  }\n",
              "\n",
              "  .colab-df-quickchart-complete:disabled,\n",
              "  .colab-df-quickchart-complete:disabled:hover {\n",
              "    background-color: var(--disabled-bg-color);\n",
              "    fill: var(--disabled-fill-color);\n",
              "    box-shadow: none;\n",
              "  }\n",
              "\n",
              "  .colab-df-spinner {\n",
              "    border: 2px solid var(--fill-color);\n",
              "    border-color: transparent;\n",
              "    border-bottom-color: var(--fill-color);\n",
              "    animation:\n",
              "      spin 1s steps(1) infinite;\n",
              "  }\n",
              "\n",
              "  @keyframes spin {\n",
              "    0% {\n",
              "      border-color: transparent;\n",
              "      border-bottom-color: var(--fill-color);\n",
              "      border-left-color: var(--fill-color);\n",
              "    }\n",
              "    20% {\n",
              "      border-color: transparent;\n",
              "      border-left-color: var(--fill-color);\n",
              "      border-top-color: var(--fill-color);\n",
              "    }\n",
              "    30% {\n",
              "      border-color: transparent;\n",
              "      border-left-color: var(--fill-color);\n",
              "      border-top-color: var(--fill-color);\n",
              "      border-right-color: var(--fill-color);\n",
              "    }\n",
              "    40% {\n",
              "      border-color: transparent;\n",
              "      border-right-color: var(--fill-color);\n",
              "      border-top-color: var(--fill-color);\n",
              "    }\n",
              "    60% {\n",
              "      border-color: transparent;\n",
              "      border-right-color: var(--fill-color);\n",
              "    }\n",
              "    80% {\n",
              "      border-color: transparent;\n",
              "      border-right-color: var(--fill-color);\n",
              "      border-bottom-color: var(--fill-color);\n",
              "    }\n",
              "    90% {\n",
              "      border-color: transparent;\n",
              "      border-bottom-color: var(--fill-color);\n",
              "    }\n",
              "  }\n",
              "</style>\n",
              "\n",
              "  <script>\n",
              "    async function quickchart(key) {\n",
              "      const quickchartButtonEl =\n",
              "        document.querySelector('#' + key + ' button');\n",
              "      quickchartButtonEl.disabled = true;  // To prevent multiple clicks.\n",
              "      quickchartButtonEl.classList.add('colab-df-spinner');\n",
              "      try {\n",
              "        const charts = await google.colab.kernel.invokeFunction(\n",
              "            'suggestCharts', [key], {});\n",
              "      } catch (error) {\n",
              "        console.error('Error during call to suggestCharts:', error);\n",
              "      }\n",
              "      quickchartButtonEl.classList.remove('colab-df-spinner');\n",
              "      quickchartButtonEl.classList.add('colab-df-quickchart-complete');\n",
              "    }\n",
              "    (() => {\n",
              "      let quickchartButtonEl =\n",
              "        document.querySelector('#df-9658e8f1-26c7-4b07-9b0c-8722f3d6822e button');\n",
              "      quickchartButtonEl.style.display =\n",
              "        google.colab.kernel.accessAllowed ? 'block' : 'none';\n",
              "    })();\n",
              "  </script>\n",
              "</div>\n",
              "    </div>\n",
              "  </div>\n"
            ]
          },
          "metadata": {},
          "execution_count": 30
        }
      ]
    },
    {
      "cell_type": "code",
      "source": [
        "features = ['genres', 'keywords', 'title', 'cast', 'director']\n",
        "df['cast'].isnull().values.any()"
      ],
      "metadata": {
        "colab": {
          "base_uri": "https://localhost:8080/"
        },
        "id": "SO0xwMoMOhAG",
        "outputId": "be50a788-0021-4986-e846-ac1e797a9cb3"
      },
      "execution_count": 31,
      "outputs": [
        {
          "output_type": "execute_result",
          "data": {
            "text/plain": [
              "True"
            ]
          },
          "metadata": {},
          "execution_count": 31
        }
      ]
    },
    {
      "cell_type": "code",
      "source": [
        "def combine_features(row):\n",
        "    return row['title']+' '+row['genres']+' '+row['director']+' '+row['keywords']+' '+row['cast']\n",
        "\n",
        "for feature in features:\n",
        "    df[feature] = df[feature].fillna('')"
      ],
      "metadata": {
        "id": "26EJrkZ-Ovwg"
      },
      "execution_count": 32,
      "outputs": []
    },
    {
      "cell_type": "code",
      "source": [
        "df['combined_features'] = df.apply(combine_features, axis = 1)\n",
        "cv = CountVectorizer()\n",
        "count_matrix = cv.fit_transform(df['combined_features'])\n",
        "cosine_sim = cosine_similarity(count_matrix)"
      ],
      "metadata": {
        "id": "1xHI3DcsPD41"
      },
      "execution_count": 54,
      "outputs": []
    },
    {
      "cell_type": "markdown",
      "metadata": {
        "id": "URXj5KwETg2Q"
      },
      "source": [
        "## Data preparation"
      ]
    },
    {
      "cell_type": "code",
      "source": [
        "def get_title_from_index(index):\n",
        "    return df[df.index == index][\"title\"].values[0]\n",
        "def get_index_from_title(title):\n",
        "    return df[df.title == title][\"index\"].values[0]"
      ],
      "metadata": {
        "id": "qAR1yvbcPLaL"
      },
      "execution_count": 34,
      "outputs": []
    },
    {
      "cell_type": "code",
      "source": [
        "movie_user_likes = \"Pirates of the Caribbean: At World's End\"\n",
        "movie_index = get_index_from_title(movie_user_likes)\n",
        "similar_movies = list(enumerate(cosine_sim[movie_index])) #accessing the row corresponding to given movie to find all the similarity scores for that movie and then enumerating over it\n",
        "sorted_similar_movies = sorted(similar_movies,key=lambda x:x[1],reverse=True)[1:]"
      ],
      "metadata": {
        "id": "nJ7Fo-nfPmO3"
      },
      "execution_count": 35,
      "outputs": []
    },
    {
      "cell_type": "code",
      "execution_count": 36,
      "metadata": {
        "id": "BLdNAGwCTg2Q",
        "colab": {
          "base_uri": "https://localhost:8080/"
        },
        "outputId": "7e847ff4-1a2d-43f5-8e9d-07167f615663"
      },
      "outputs": [
        {
          "output_type": "stream",
          "name": "stdout",
          "text": [
            "number of training data rows: 70036 , number of testing data rows: 30027\n"
          ]
        }
      ],
      "source": [
        "data = joined_df.select(\"userId\", \"movieId\", \"rating\", \"title\")\n",
        "splits = data.randomSplit([0.7, 0.3])\n",
        "train = splits[0].withColumnRenamed(\"rating\", \"label\")\n",
        "test = splits[1].withColumnRenamed(\"rating\", \"trueLabel\")\n",
        "#calculate number of rows\n",
        "train_rows = train.count()\n",
        "test_rows = test.count()\n",
        "print (\"number of training data rows:\", train_rows, \", number of testing data rows:\", test_rows)"
      ]
    },
    {
      "cell_type": "markdown",
      "metadata": {
        "id": "YJznGlyhTg2S"
      },
      "source": [
        "## Define model and train it"
      ]
    },
    {
      "cell_type": "code",
      "source": [
        "from pyspark.sql.functions import col\n",
        "\n",
        "for column in train.columns:\n",
        "    null_count = train.filter(col(column).isNull()).count()\n",
        "    print(f\"The column {column} has {null_count} null values.\")"
      ],
      "metadata": {
        "id": "kTaGyz6vm0BE",
        "colab": {
          "base_uri": "https://localhost:8080/"
        },
        "outputId": "cdd71d2e-02bd-4ac8-ca1e-aa5ff0f19e13"
      },
      "execution_count": 37,
      "outputs": [
        {
          "output_type": "stream",
          "name": "stdout",
          "text": [
            "The column userId has 37 null values.\n",
            "The column movieId has 0 null values.\n",
            "The column label has 37 null values.\n",
            "The column title has 0 null values.\n"
          ]
        }
      ]
    },
    {
      "cell_type": "code",
      "source": [
        "train.show(10)\n",
        "cleaned_train = train.dropna(subset=['userId', 'label'])\n",
        "cleaned_train.printSchema()\n",
        "cleaned_train.show(5)\n",
        "from pyspark.sql.types import IntegerType, FloatType\n",
        "cleaned_train = cleaned_train.withColumn(\"userId\", cleaned_train[\"userId\"].cast(IntegerType()))\n",
        "cleaned_train = cleaned_train.withColumn(\"label\", cleaned_train[\"label\"].cast(FloatType()))\n",
        "cleaned_train = cleaned_train.withColumn(\"movieId\", cleaned_train[\"movieId\"].cast(IntegerType()))\n",
        "cleaned_train.printSchema()\n",
        "cleaned_train.show(5)\n",
        "missing_users = cleaned_train.filter(cleaned_train.userId.isNull()).count()\n",
        "missing_movie = cleaned_train.filter(cleaned_train.movieId.isNull()).count()\n",
        "missing_label = cleaned_train.filter(cleaned_train.label.isNull()).count()\n",
        "missing_title = cleaned_train.filter(cleaned_train.title.isNull()).count()\n",
        "print(missing_users)\n",
        "print(missing_movie)\n",
        "print(missing_label)\n",
        "print(missing_title)\n",
        "print(cleaned_train.columns)\n",
        "print(spark.version)"
      ],
      "metadata": {
        "id": "pd-TqYc7ncTs",
        "colab": {
          "base_uri": "https://localhost:8080/"
        },
        "outputId": "7ec1f3be-d7e4-4c4e-ebc5-ec60767256c1"
      },
      "execution_count": 38,
      "outputs": [
        {
          "output_type": "stream",
          "name": "stdout",
          "text": [
            "+------+-------+-----+--------------------+\n",
            "|userId|movieId|label|               title|\n",
            "+------+-------+-----+--------------------+\n",
            "|  NULL|   4712| NULL|Wild Child, The (...|\n",
            "|  NULL|   5169| NULL|Scarlet Street (1...|\n",
            "|  NULL|   5289| NULL|Body and Soul (1947)|\n",
            "|  NULL|   5984| NULL|Story of O, The (...|\n",
            "|  NULL|   6229| NULL|Two-Lane Blacktop...|\n",
            "|  NULL|   6515| NULL|You Only Live Onc...|\n",
            "|  NULL|   6683| NULL|         Fire (1996)|\n",
            "|  NULL|   7335| NULL|Pickup on South S...|\n",
            "|  NULL|   8236| NULL|While the City Sl...|\n",
            "|  NULL|  25927| NULL|Stranger, The (1946)|\n",
            "+------+-------+-----+--------------------+\n",
            "only showing top 10 rows\n",
            "\n",
            "root\n",
            " |-- userId: integer (nullable = true)\n",
            " |-- movieId: integer (nullable = true)\n",
            " |-- label: double (nullable = true)\n",
            " |-- title: string (nullable = true)\n",
            "\n",
            "+------+-------+-----+--------------------+\n",
            "|userId|movieId|label|               title|\n",
            "+------+-------+-----+--------------------+\n",
            "|     1|     31|  2.5|Dangerous Minds (...|\n",
            "|     1|   1029|  3.0|        Dumbo (1941)|\n",
            "|     1|   1061|  3.0|     Sleepers (1996)|\n",
            "|     1|   1129|  2.0|Escape from New Y...|\n",
            "|     1|   1172|  4.0|Cinema Paradiso (...|\n",
            "+------+-------+-----+--------------------+\n",
            "only showing top 5 rows\n",
            "\n",
            "root\n",
            " |-- userId: integer (nullable = true)\n",
            " |-- movieId: integer (nullable = true)\n",
            " |-- label: float (nullable = true)\n",
            " |-- title: string (nullable = true)\n",
            "\n",
            "+------+-------+-----+--------------------+\n",
            "|userId|movieId|label|               title|\n",
            "+------+-------+-----+--------------------+\n",
            "|     1|     31|  2.5|Dangerous Minds (...|\n",
            "|     1|   1029|  3.0|        Dumbo (1941)|\n",
            "|     1|   1061|  3.0|     Sleepers (1996)|\n",
            "|     1|   1129|  2.0|Escape from New Y...|\n",
            "|     1|   1172|  4.0|Cinema Paradiso (...|\n",
            "+------+-------+-----+--------------------+\n",
            "only showing top 5 rows\n",
            "\n",
            "0\n",
            "0\n",
            "0\n",
            "0\n",
            "['userId', 'movieId', 'label', 'title']\n",
            "3.5.0\n"
          ]
        }
      ]
    },
    {
      "cell_type": "code",
      "execution_count": 39,
      "metadata": {
        "id": "70bMcQDMTg2T",
        "colab": {
          "base_uri": "https://localhost:8080/"
        },
        "outputId": "e5e2259b-66fa-4baa-8cde-b37bb9260522"
      },
      "outputs": [
        {
          "output_type": "stream",
          "name": "stdout",
          "text": [
            "Training is done!\n"
          ]
        }
      ],
      "source": [
        "als = ALS(maxIter=19, regParam=0.01, userCol=\"userId\", itemCol=\"movieId\", ratingCol=\"label\")\n",
        "sampled_data = cleaned_train.sample(withReplacement=False, fraction=0.9)\n",
        "model = als.fit(sampled_data)\n",
        "# model = als.fit(cleaned_train)\n",
        "print(\"Training is done!\")"
      ]
    },
    {
      "cell_type": "code",
      "source": [
        "test.show()\n",
        "test.printSchema()\n",
        "cleaned_test = test.dropna(subset=['userId', 'trueLabel'])"
      ],
      "metadata": {
        "id": "d3Lhcyx5rHH4",
        "colab": {
          "base_uri": "https://localhost:8080/"
        },
        "outputId": "237a837e-326d-48ad-b5c6-15f7765798aa"
      },
      "execution_count": 40,
      "outputs": [
        {
          "output_type": "stream",
          "name": "stdout",
          "text": [
            "+------+-------+---------+--------------------+\n",
            "|userId|movieId|trueLabel|               title|\n",
            "+------+-------+---------+--------------------+\n",
            "|  NULL|   4763|     NULL|Iron Ladies, The ...|\n",
            "|  NULL|   6830|     NULL|  Sudden Fear (1952)|\n",
            "|  NULL|   7243|     NULL|Intolerance: Love...|\n",
            "|  NULL|   8494|     NULL|Cincinnati Kid, T...|\n",
            "|  NULL|   8766|     NULL|  Black Angel (1946)|\n",
            "|  NULL|   8767|     NULL|Big Clock, The (1...|\n",
            "|  NULL|  34517|     NULL|      Berserk (1967)|\n",
            "|  NULL|  41585|     NULL|Kiss of Death (1947)|\n",
            "|  NULL|  48711|     NULL|Facing the Giants...|\n",
            "|  NULL|  55946|     NULL|Lions For Lambs (...|\n",
            "|  NULL| 110871|     NULL|  Rocket, The (2013)|\n",
            "|  NULL| 114459|     NULL|White Bird in a B...|\n",
            "|  NULL| 115139|     NULL|Challenge to Lass...|\n",
            "|  NULL| 123663|     NULL|The Passionate Pl...|\n",
            "|  NULL| 127144|     NULL|Drunk Stoned Bril...|\n",
            "|  NULL| 127212|     NULL|The Stanford Pris...|\n",
            "|  NULL| 128235|     NULL|Stormy Weather (1...|\n",
            "|  NULL| 132547|     NULL|A Girl Like Her (...|\n",
            "|  NULL| 132800|     NULL|Welcome to Me (2014)|\n",
            "|  NULL| 148482|     NULL|        Truth (2015)|\n",
            "+------+-------+---------+--------------------+\n",
            "only showing top 20 rows\n",
            "\n",
            "root\n",
            " |-- userId: integer (nullable = true)\n",
            " |-- movieId: integer (nullable = true)\n",
            " |-- trueLabel: double (nullable = true)\n",
            " |-- title: string (nullable = true)\n",
            "\n"
          ]
        }
      ]
    },
    {
      "cell_type": "markdown",
      "metadata": {
        "id": "GX8oCBi6Tg2V"
      },
      "source": [
        "## Predict testing data"
      ]
    },
    {
      "cell_type": "code",
      "execution_count": 41,
      "metadata": {
        "id": "Cc5ToHlqTg2W",
        "colab": {
          "base_uri": "https://localhost:8080/"
        },
        "outputId": "bb9a87b2-8def-47f5-b470-3fcee6a2b5d0"
      },
      "outputs": [
        {
          "output_type": "stream",
          "name": "stdout",
          "text": [
            "testing is done!:  DataFrame[userId: int, movieId: int, trueLabel: double, title: string, prediction: float]\n",
            "The column userId has 0 null values.\n",
            "The column movieId has 0 null values.\n",
            "The column trueLabel has 0 null values.\n",
            "The column title has 0 null values.\n",
            "The column prediction has 0 null values.\n",
            "+------+-------+---------+-----------------------+-----------+\n",
            "|userId|movieId|trueLabel|title                  |prediction |\n",
            "+------+-------+---------+-----------------------+-----------+\n",
            "|1     |1343   |2.0      |Cape Fear (1991)       |1.3726431  |\n",
            "|1     |2105   |4.0      |Tron (1982)            |2.6260257  |\n",
            "|1     |2455   |2.5      |Fly, The (1986)        |3.9241433  |\n",
            "|2     |52     |3.0      |Mighty Aphrodite (1995)|3.7808242  |\n",
            "|2     |150    |5.0      |Apollo 13 (1995)       |3.0611937  |\n",
            "|2     |186    |3.0      |Nine Months (1995)     |2.2666526  |\n",
            "|2     |208    |3.0      |Waterworld (1995)      |3.129305   |\n",
            "|2     |223    |1.0      |Clerks (1994)          |3.4881535  |\n",
            "|2     |235    |3.0      |Ed Wood (1994)         |3.8658109  |\n",
            "|2     |248    |3.0      |Houseguest (1994)      |-0.07563388|\n",
            "+------+-------+---------+-----------------------+-----------+\n",
            "only showing top 10 rows\n",
            "\n"
          ]
        }
      ],
      "source": [
        "prediction = model.transform(cleaned_test)\n",
        "print(\"testing is done!: \", prediction)\n",
        "for column in prediction.columns:\n",
        "    null_count = prediction.filter(col(column).isNull()).count()\n",
        "    print(f\"The column {column} has {null_count} null values.\")\n",
        "prediction.show(n=10, truncate=False)"
      ]
    },
    {
      "cell_type": "code",
      "execution_count": 42,
      "metadata": {
        "id": "Ir2dpRWwTg2X",
        "colab": {
          "base_uri": "https://localhost:8080/"
        },
        "outputId": "25892d1f-c031-4f45-83b7-8f2240e8d291"
      },
      "outputs": [
        {
          "output_type": "stream",
          "name": "stdout",
          "text": [
            "+------+----------------------------------+-----------+---------+\n",
            "|userId|title                             |prediction |trueLabel|\n",
            "+------+----------------------------------+-----------+---------+\n",
            "|1     |Cape Fear (1991)                  |1.3726431  |2.0      |\n",
            "|1     |Tron (1982)                       |2.6260257  |4.0      |\n",
            "|1     |Fly, The (1986)                   |3.9241433  |2.5      |\n",
            "|2     |Apollo 13 (1995)                  |3.0611937  |5.0      |\n",
            "|2     |Waterworld (1995)                 |3.129305   |3.0      |\n",
            "|2     |Clerks (1994)                     |3.4881535  |1.0      |\n",
            "|2     |Houseguest (1994)                 |-0.07563388|3.0      |\n",
            "|2     |Clear and Present Danger (1994)   |2.917816   |4.0      |\n",
            "|2     |Four Weddings and a Funeral (1994)|3.4804826  |3.0      |\n",
            "|2     |Paper, The (1994)                 |4.673346   |3.0      |\n",
            "+------+----------------------------------+-----------+---------+\n",
            "only showing top 10 rows\n",
            "\n"
          ]
        }
      ],
      "source": [
        "# prediction.join(movies, \"movieId\").select(\"userId\", \"title\", \"prediction\",\"trueLabel\" ).show(n=10, truncate=False)\n",
        "\n",
        "# movies.show(5)\n",
        "new_pred = prediction.join(movies, on=[\"userId\", \"movieId\"], how=\"outer\").select(\"userId\", \"title\", \"prediction\", \"trueLabel\")\n",
        "new_pred = new_pred.dropna(subset=['userId', 'prediction', 'trueLabel'])\n",
        "new_pred.show(n = 10, truncate = False)"
      ]
    },
    {
      "cell_type": "code",
      "source": [
        "i=0\n",
        "print(\"Top 10 similar movies to \"+movie_user_likes+\" are:\\n\")\n",
        "for element in sorted_similar_movies:\n",
        "    print(get_title_from_index(element[0]))\n",
        "    i=i+1\n",
        "    if i>10:\n",
        "        break"
      ],
      "metadata": {
        "colab": {
          "base_uri": "https://localhost:8080/"
        },
        "id": "5jq3Sh1PPwMg",
        "outputId": "244fac54-ae0e-4247-bfbd-9f23816edfe0"
      },
      "execution_count": 43,
      "outputs": [
        {
          "output_type": "stream",
          "name": "stdout",
          "text": [
            "Top 10 similar movies to Pirates of the Caribbean: At World's End are:\n",
            "\n",
            "Pirates of the Caribbean: The Curse of the Black Pearl\n",
            "Pirates of the Caribbean: Dead Man's Chest\n",
            "The Lord of the Rings: The Fellowship of the Ring\n",
            "Seeking a Friend for the End of the World\n",
            "The Lord of the Rings: The Return of the King\n",
            "Pirates of the Caribbean: On Stranger Tides\n",
            "Bedazzled\n",
            "The Island\n",
            "Kingdom of Heaven\n",
            "The Lord of the Rings: The Two Towers\n",
            "In the Name of the King: A Dungeon Siege Tale\n"
          ]
        }
      ]
    },
    {
      "cell_type": "markdown",
      "metadata": {
        "id": "wMutusvFTg2Y"
      },
      "source": [
        "## Evaluate the accuracy of our model"
      ]
    },
    {
      "cell_type": "markdown",
      "source": [],
      "metadata": {
        "id": "XJqh_KARs0SE"
      }
    },
    {
      "cell_type": "code",
      "execution_count": 44,
      "metadata": {
        "id": "j4-Bj8ugTg2Y",
        "colab": {
          "base_uri": "https://localhost:8080/"
        },
        "outputId": "84dec8b2-870c-4c60-bdde-90c276c0cfe8"
      },
      "outputs": [
        {
          "output_type": "stream",
          "name": "stdout",
          "text": [
            "Root Mean Square Error (RMSE): nan\n"
          ]
        }
      ],
      "source": [
        "from pyspark.ml.evaluation import RegressionEvaluator\n",
        "\n",
        "evaluator = RegressionEvaluator(\n",
        "    labelCol=\"trueLabel\", predictionCol=\"prediction\", metricName=\"rmse\")\n",
        "rmse = evaluator.evaluate(prediction)\n",
        "print (\"Root Mean Square Error (RMSE):\", rmse)"
      ]
    },
    {
      "cell_type": "code",
      "execution_count": 45,
      "metadata": {
        "id": "qDY61aAPTg2Z",
        "colab": {
          "base_uri": "https://localhost:8080/"
        },
        "outputId": "99b36018-0360-46c3-cc31-c179b094b78b"
      },
      "outputs": [
        {
          "output_type": "stream",
          "name": "stdout",
          "text": [
            "number of original data rows:  30005\n",
            "number of rows after dropping data with missing value:  28668\n",
            "number of missing data:  1337\n"
          ]
        }
      ],
      "source": [
        "prediction.count()\n",
        "a = prediction.count()\n",
        "print(\"number of original data rows: \", a)\n",
        "#drop rows with any missing data\n",
        "cleanPred = prediction.dropna(how=\"any\", subset=[\"prediction\"])\n",
        "b = cleanPred.count()\n",
        "print(\"number of rows after dropping data with missing value: \", b)\n",
        "print(\"number of missing data: \", a-b)"
      ]
    },
    {
      "cell_type": "code",
      "execution_count": 46,
      "metadata": {
        "id": "9q8vI_h_Tg2a",
        "colab": {
          "base_uri": "https://localhost:8080/"
        },
        "outputId": "aff8e352-bc9b-4e80-a91d-c40843a31098"
      },
      "outputs": [
        {
          "output_type": "stream",
          "name": "stdout",
          "text": [
            "Root Mean Square Error (RMSE): 1.2676689465649722\n"
          ]
        }
      ],
      "source": [
        "rmse = evaluator.evaluate(cleanPred)\n",
        "print (\"Root Mean Square Error (RMSE):\", rmse)"
      ]
    },
    {
      "cell_type": "code",
      "source": [
        "cleanPred.show(5)"
      ],
      "metadata": {
        "id": "nfH9aG-xoD0i",
        "colab": {
          "base_uri": "https://localhost:8080/"
        },
        "outputId": "ddc7ab72-bfd8-4723-b360-df5d1f4fd6d6"
      },
      "execution_count": 47,
      "outputs": [
        {
          "output_type": "stream",
          "name": "stdout",
          "text": [
            "+------+-------+---------+--------------------+----------+\n",
            "|userId|movieId|trueLabel|               title|prediction|\n",
            "+------+-------+---------+--------------------+----------+\n",
            "|   148|     32|      4.0|Twelve Monkeys (a...| 3.7776427|\n",
            "|   148|     52|      4.0|Mighty Aphrodite ...| 4.5996203|\n",
            "|   148|    232|      4.5|Eat Drink Man Wom...| 2.7192426|\n",
            "|   148|    585|      2.5|Brady Bunch Movie...| 3.0897534|\n",
            "|   148|    588|      4.0|      Aladdin (1992)| 3.9169507|\n",
            "+------+-------+---------+--------------------+----------+\n",
            "only showing top 5 rows\n",
            "\n"
          ]
        }
      ]
    },
    {
      "cell_type": "code",
      "source": [
        "from pyspark.sql.window import Window\n",
        "from pyspark.sql.functions import row_number, desc, abs\n",
        "import os\n",
        "import shutil\n",
        "\n",
        "# Define a window spec\n",
        "windowSpec = Window.partitionBy(\"userId\").orderBy(desc(\"prediction\"))\n",
        "\n",
        "# Use the row_number function to assign a unique sequential number for each row, starting at 1, for each partition\n",
        "numbered = cleanPred.withColumn(\"row_number\", row_number().over(windowSpec))\n",
        "condition2 = abs(numbered['trueLabel'] - numbered['prediction']) <= 1\n",
        "numbered.show(5)\n",
        "# Filter for the top 5 rows for each user\n",
        "top5_per_user = numbered.filter((numbered.row_number <= 1) & condition2).drop(\"row_number\")\n",
        "# top5_per_user = top5_per_user.filter(abs(top5_per_user['trueLabel'] - top5_per_user['prediction']) <= 1)\n",
        "top5_per_user.show(10)\n",
        "\n"
      ],
      "metadata": {
        "colab": {
          "base_uri": "https://localhost:8080/"
        },
        "id": "4jIEiNtKHnyq",
        "outputId": "566ddbf3-3621-4eae-b32e-eab7f270b1f1"
      },
      "execution_count": 48,
      "outputs": [
        {
          "output_type": "stream",
          "name": "stdout",
          "text": [
            "+------+-------+---------+--------------------+----------+----------+\n",
            "|userId|movieId|trueLabel|               title|prediction|row_number|\n",
            "+------+-------+---------+--------------------+----------+----------+\n",
            "|     1|   2455|      2.5|     Fly, The (1986)| 3.9241433|         1|\n",
            "|     1|   2105|      4.0|         Tron (1982)| 2.6260257|         2|\n",
            "|     1|   1343|      2.0|    Cape Fear (1991)| 1.3726431|         3|\n",
            "|     2|    314|      4.0|Secret of Roan In...|  5.141057|         1|\n",
            "|     2|    371|      3.0|   Paper, The (1994)|  4.673346|         2|\n",
            "+------+-------+---------+--------------------+----------+----------+\n",
            "only showing top 5 rows\n",
            "\n",
            "+------+-------+---------+--------------------+----------+\n",
            "|userId|movieId|trueLabel|               title|prediction|\n",
            "+------+-------+---------+--------------------+----------+\n",
            "|     3|   3949|      5.0|Requiem for a Dre...| 5.4142265|\n",
            "|     5|   6377|      4.0| Finding Nemo (2003)|  4.535297|\n",
            "|     6|   7153|      5.0|Lord of the Rings...|  4.698305|\n",
            "|     7|    534|      4.0|  Shadowlands (1993)| 4.8011813|\n",
            "|     8|     47|      5.0|Seven (a.k.a. Se7...|  5.386844|\n",
            "|     9|   2391|      4.0|Simple Plan, A (1...| 4.6915054|\n",
            "|    10|   3019|      4.0|Drugstore Cowboy ...| 4.9981313|\n",
            "|    12|   2460|      4.0|Texas Chainsaw Ma...| 3.9429853|\n",
            "|    18|      6|      4.0|         Heat (1995)| 3.8577516|\n",
            "|    25|     32|      4.0|Twelve Monkeys (a...| 3.7613938|\n",
            "+------+-------+---------+--------------------+----------+\n",
            "only showing top 10 rows\n",
            "\n"
          ]
        }
      ]
    },
    {
      "cell_type": "code",
      "source": [
        "# Show the results\n",
        "path = \"/content/drive/MyDrive/bda proj/top5_per_user.csv\"\n",
        "\n",
        "if os.path.exists(path):\n",
        "    shutil.rmtree(path)  # for directory, you'll need to `import shutil` at the top\n",
        "\n",
        "# Save the DataFrame to the location\n",
        "top5_per_user.write.csv(path, header=True)\n",
        "top5_per_user = top5_per_user.drop('trueLabel')\n",
        "top5_per_user.show(5)"
      ],
      "metadata": {
        "colab": {
          "base_uri": "https://localhost:8080/"
        },
        "id": "zify3yP4ewcV",
        "outputId": "38ae72ac-f726-4888-d021-721297cb74ac"
      },
      "execution_count": 49,
      "outputs": [
        {
          "output_type": "stream",
          "name": "stdout",
          "text": [
            "+------+-------+--------------------+----------+\n",
            "|userId|movieId|               title|prediction|\n",
            "+------+-------+--------------------+----------+\n",
            "|     3|   3949|Requiem for a Dre...| 5.4142265|\n",
            "|     5|   6377| Finding Nemo (2003)|  4.535297|\n",
            "|     6|   7153|Lord of the Rings...|  4.698305|\n",
            "|     7|    534|  Shadowlands (1993)| 4.8011813|\n",
            "|     8|     47|Seven (a.k.a. Se7...|  5.386844|\n",
            "+------+-------+--------------------+----------+\n",
            "only showing top 5 rows\n",
            "\n"
          ]
        }
      ]
    },
    {
      "cell_type": "code",
      "source": [
        "import matplotlib.pyplot as plt\n",
        "import pandas as pd\n",
        "\n",
        "pdf = cleanPred.toPandas()"
      ],
      "metadata": {
        "id": "GB-VWzV6Cs05"
      },
      "execution_count": 50,
      "outputs": []
    },
    {
      "cell_type": "code",
      "source": [
        "plt.figure(figsize=(10, 6))\n",
        "\n",
        "# Scatter plot\n",
        "plt.scatter(pdf['trueLabel'], pdf['prediction'], alpha=0.5)\n",
        "\n",
        "# Line for perfect prediction\n",
        "plt.plot([0, 5], [0, 5], '--k', color='red') # Assuming ratings are from 0 to 5\n",
        "\n",
        "plt.xlabel('True Label')\n",
        "plt.ylabel('Prediction')\n",
        "plt.title('Comparison of true labels and predictions')\n",
        "plt.grid(True)\n",
        "plt.show()"
      ],
      "metadata": {
        "id": "zR7ZjRi9DHZZ",
        "colab": {
          "base_uri": "https://localhost:8080/",
          "height": 616
        },
        "outputId": "cb658d54-d953-4502-fb5f-b62ef60c2d87"
      },
      "execution_count": 51,
      "outputs": [
        {
          "output_type": "stream",
          "name": "stderr",
          "text": [
            "<ipython-input-51-b264b0fc9c81>:7: UserWarning: color is redundantly defined by the 'color' keyword argument and the fmt string \"--k\" (-> color='k'). The keyword argument will take precedence.\n",
            "  plt.plot([0, 5], [0, 5], '--k', color='red') # Assuming ratings are from 0 to 5\n"
          ]
        },
        {
          "output_type": "display_data",
          "data": {
            "text/plain": [
              "<Figure size 1000x600 with 1 Axes>"
            ],
            "image/png": "[encoded data removed]"
          },
          "metadata": {}
        }
      ]
    },
    {
      "cell_type": "code",
      "source": [
        "plt.figure(figsize=(12, 6))\n",
        "\n",
        "# Histogram for trueLabel\n",
        "plt.hist(pdf['trueLabel'], bins=30, alpha=0.5, label='True Label', color='blue')\n",
        "\n",
        "# Histogram for prediction\n",
        "plt.hist(pdf['prediction'], bins=30, alpha=0.5, label='Prediction', color='green')\n",
        "\n",
        "plt.xlabel('Rating Value')\n",
        "plt.ylabel('Frequency')\n",
        "plt.title('Distribution of True Labels vs Predictions')\n",
        "plt.legend(loc='upper right')\n",
        "plt.grid(True)\n",
        "plt.show()"
      ],
      "metadata": {
        "id": "j7pvTLRvDPog",
        "colab": {
          "base_uri": "https://localhost:8080/",
          "height": 563
        },
        "outputId": "0798cad4-d108-4161-c6fc-6c2fbeada015"
      },
      "execution_count": 52,
      "outputs": [
        {
          "output_type": "display_data",
          "data": {
            "text/plain": [
              "<Figure size 1200x600 with 1 Axes>"
            ],
            "image/png": "[encoded data removed]"
          },
          "metadata": {}
        }
      ]
    },
    {
      "cell_type": "code",
      "source": [],
      "metadata": {
        "id": "oLePTNyiXWMF"
      },
      "execution_count": 52,
      "outputs": []
    }
  ],
  "metadata": {
    "kernelspec": {
      "display_name": "Python 3",
      "name": "python3"
    },
    "language_info": {
      "codemirror_mode": {
        "name": "ipython",
        "version": 3
      },
      "file_extension": ".py",
      "mimetype": "text/x-python",
      "name": "python",
      "nbconvert_exporter": "python",
      "pygments_lexer": "ipython3",
      "version": "3.7.0"
    },
    "colab": {
      "provenance": [],
      "gpuType": "T4"
    }
  },
  "nbformat": 4,
  "nbformat_minor": 0
}